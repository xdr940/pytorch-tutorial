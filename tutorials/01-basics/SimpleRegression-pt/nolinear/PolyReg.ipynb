{
 "cells": [
  {
   "cell_type": "code",
   "execution_count": 16,
   "metadata": {},
   "outputs": [],
   "source": [
    "import torch\n",
    "import numpy as np\n",
    "from torch.autograd import Variable\n",
    "import torch.nn as nn\n",
    "import torch.optim as optim\n",
    "import matplotlib.pyplot as plt\n"
   ]
  },
  {
   "cell_type": "code",
   "execution_count": 17,
   "metadata": {},
   "outputs": [],
   "source": [
    "def make_featrues(x):\n",
    "    x = x.unsqueeze(1)\n",
    "    return torch.cat([x**i for i in range(1,4)],1)\n",
    "\n",
    "\n",
    "w_target = torch.FloatTensor([0.5,3,2.4]).unsqueeze(1)\n",
    "b_target = torch.FloatTensor([.9])\n",
    "\n",
    "def f(x):\n",
    "    return x.mm(w_target) + b_target[0]\n",
    "\n",
    "def get_batch(batch_size=32):\n",
    "    random = torch.randn(batch_size).sort()[0]#sort return 的是个（batch_size,2）的张量，第二个量记录的是原来顺序\n",
    "    \n",
    "    x = make_featrues(random)\n",
    "    y=f(x)\n",
    "    if torch.cuda.is_available():\n",
    "        return random.data.numpy(), Variable(x).cuda(), Variable(y).cuda()\n",
    "    else:\n",
    "        return random.data.numpy(), Variable(x),Variable(y)\n",
    "\n",
    "class PR (nn.Module):\n",
    "    def __init__(self):\n",
    "        super(PR,self).__init__()\n",
    "        self.poly = nn.Linear(in_features= 3,out_features = 1,bias = True)\n",
    "    def forward(self, x):\n",
    "        out = self.poly(x)\n",
    "        return out\n"
   ]
  },
  {
   "cell_type": "code",
   "execution_count": 18,
   "metadata": {},
   "outputs": [],
   "source": [
    "def train():\n",
    "    num_epochs = 3000\n",
    "    MODEL_SAVE_PATH='./'\n",
    "    criterion = nn.MSELoss()\n",
    "    optimizer = optim.SGD(model.parameters(),lr=1e-3)\n",
    "    for epoch in range(num_epochs):\n",
    "        try:\n",
    "            if torch.cuda.is_available():\n",
    "                inputs = Variable(x_train_cuda)\n",
    "                target = Variable(y_train_cuda)\n",
    "            else:\n",
    "                inputs =Variable(x_train)\n",
    "                target = Variable(y_train)\n",
    "            #forward\n",
    "            out = model(inputs)\n",
    "            loss = criterion(out, target)\n",
    "            #backward\n",
    "            optimizer.zero_grad()\n",
    "            loss.backward()\n",
    "            optimizer.step()\n",
    "\n",
    "            if (epoch+1)%50==0:\n",
    "                print('Epoch[{}/{}], loss:{:.6f}'.format(epoch+1,num_epochs, loss.item()))\n",
    "        \n",
    "        except KeyboardInterrupt:\n",
    "            print('you have a incomming call')\n",
    "            break\n",
    "            #torch.save(model, MODEL_SAVE_PATH)\n",
    "    #torch.save(model, MODEL_SAVE_PATH)\n"
   ]
  },
  {
   "cell_type": "code",
   "execution_count": 67,
   "metadata": {},
   "outputs": [
    {
     "name": "stdout",
     "output_type": "stream",
     "text": [
      "Epoch[50/3000], loss:14.837116\n",
      "Epoch[100/3000], loss:10.628674\n",
      "Epoch[150/3000], loss:7.846461\n",
      "Epoch[200/3000], loss:5.860492\n",
      "Epoch[250/3000], loss:4.437113\n",
      "Epoch[300/3000], loss:3.412313\n",
      "Epoch[350/3000], loss:2.670250\n",
      "Epoch[400/3000], loss:2.129060\n",
      "Epoch[450/3000], loss:1.730883\n",
      "Epoch[500/3000], loss:1.434788\n",
      "Epoch[550/3000], loss:1.211807\n",
      "Epoch[600/3000], loss:1.041415\n",
      "Epoch[650/3000], loss:0.909054\n",
      "Epoch[700/3000], loss:0.804381\n",
      "Epoch[750/3000], loss:0.720031\n",
      "Epoch[800/3000], loss:0.650751\n",
      "Epoch[850/3000], loss:0.592778\n",
      "Epoch[900/3000], loss:0.543408\n",
      "Epoch[950/3000], loss:0.500682\n",
      "Epoch[1000/3000], loss:0.463181\n",
      "Epoch[1050/3000], loss:0.429861\n",
      "Epoch[1100/3000], loss:0.399950\n",
      "Epoch[1150/3000], loss:0.372871\n",
      "Epoch[1200/3000], loss:0.348184\n",
      "Epoch[1250/3000], loss:0.325552\n",
      "Epoch[1300/3000], loss:0.304711\n",
      "Epoch[1350/3000], loss:0.285450\n",
      "Epoch[1400/3000], loss:0.267599\n",
      "Epoch[1450/3000], loss:0.251015\n",
      "Epoch[1500/3000], loss:0.235582\n",
      "Epoch[1550/3000], loss:0.221196\n",
      "Epoch[1600/3000], loss:0.207772\n",
      "Epoch[1650/3000], loss:0.195232\n",
      "Epoch[1700/3000], loss:0.183507\n",
      "Epoch[1750/3000], loss:0.172538\n",
      "Epoch[1800/3000], loss:0.162268\n",
      "Epoch[1850/3000], loss:0.152648\n",
      "Epoch[1900/3000], loss:0.143632\n",
      "Epoch[1950/3000], loss:0.135179\n",
      "Epoch[2000/3000], loss:0.127251\n",
      "Epoch[2050/3000], loss:0.119811\n",
      "Epoch[2100/3000], loss:0.112828\n",
      "Epoch[2150/3000], loss:0.106272\n",
      "Epoch[2200/3000], loss:0.100114\n",
      "Epoch[2250/3000], loss:0.094329\n",
      "Epoch[2300/3000], loss:0.088892\n",
      "Epoch[2350/3000], loss:0.083782\n",
      "Epoch[2400/3000], loss:0.078977\n",
      "Epoch[2450/3000], loss:0.074458\n",
      "Epoch[2500/3000], loss:0.070207\n",
      "Epoch[2550/3000], loss:0.066208\n",
      "Epoch[2600/3000], loss:0.062444\n",
      "Epoch[2650/3000], loss:0.058901\n",
      "Epoch[2700/3000], loss:0.055566\n",
      "Epoch[2750/3000], loss:0.052426\n",
      "Epoch[2800/3000], loss:0.049468\n",
      "Epoch[2850/3000], loss:0.046682\n",
      "Epoch[2900/3000], loss:0.044057\n",
      "Epoch[2950/3000], loss:0.041583\n",
      "Epoch[3000/3000], loss:0.039252\n",
      "<class 'torch.Tensor'> tensor([[0.7359, 2.8028, 2.3083]], device='cuda:0') torch.Size([1, 3])\n",
      "<class 'torch.Tensor'> tensor([1.0877], device='cuda:0') torch.Size([1])\n"
     ]
    },
    {
     "data": {
      "image/png": "[encoded data removed]",
      "text/plain": [
       "<Figure size 432x288 with 1 Axes>"
      ]
     },
     "metadata": {
      "needs_background": "light"
     },
     "output_type": "display_data"
    }
   ],
   "source": [
    "\n",
    "if __name__=='__main__':\n",
    "\n",
    "    if torch.cuda.is_available():\n",
    "        model = PR().cuda()\n",
    "    else: \n",
    "        model = PR()\n",
    "    #data generate\n",
    "    x_np,x_train_cuda,y_train_cuda = get_batch()\n",
    "    x_train_np,y_train_np = x_train_cuda.cpu().data.numpy(),y_train_cuda.cpu().data.numpy()\n",
    "    \n",
    "    train()\n",
    "    \n",
    "    model.eval()\n",
    "\n",
    "    predict = model(Variable(x_train_cuda))\n",
    "    predict = predict.cpu().data.numpy()\n",
    "    predict=predict.reshape(32)\n",
    "    #print(predict)\n",
    "    #print(y_train_np)\n",
    "    #torch.save(model, '.\\data')\n",
    "    torch.save(model.state_dict(), '.\\state_dict.txt')\n",
    "    torch.save(model, '.\\model.txt')\n",
    "    for param in model.parameters():\n",
    "        print(type(param.data), param.data,param.size())\n",
    "    plt.plot(x_np,y_train_np,'ro',label = 'original data')\n",
    "    plt.plot(x_np,predict,label = 'Fitting Line')\n",
    "    plt.show()"
   ]
  },
  {
   "cell_type": "code",
   "execution_count": 68,
   "metadata": {},
   "outputs": [
    {
     "name": "stdout",
     "output_type": "stream",
     "text": [
      "<class '__main__.PR'>\n",
      "<class 'collections.OrderedDict'>\n"
     ]
    }
   ],
   "source": [
    "model2=PR().cuda()\n",
    "state_dict=torch.load('.\\state_dict.txt')\n",
    "model2.load_state_dict(state_dict)\n",
    "\n",
    "\n",
    "print(type(model2))\n",
    "print(type(state_dict))\n",
    "\n"
   ]
  },
  {
   "cell_type": "code",
   "execution_count": 70,
   "metadata": {},
   "outputs": [
    {
     "name": "stdout",
     "output_type": "stream",
     "text": [
      "PR(\n",
      "  (poly): Linear(in_features=3, out_features=1, bias=True)\n",
      ")\n"
     ]
    }
   ],
   "source": [
    "model3 = torch.load('.\\model.txt')\n",
    "print(model3)\n"
   ]
  },
  {
   "cell_type": "code",
   "execution_count": 71,
   "metadata": {},
   "outputs": [
    {
     "name": "stdout",
     "output_type": "stream",
     "text": [
      "<class 'torch.Tensor'> tensor([[0.7359, 2.8028, 2.3083]], device='cuda:0') torch.Size([1, 3])\n",
      "<class 'torch.Tensor'> tensor([1.0877], device='cuda:0') torch.Size([1])\n"
     ]
    },
    {
     "data": {
      "image/png": "[encoded data removed]",
      "text/plain": [
       "<Figure size 432x288 with 1 Axes>"
      ]
     },
     "metadata": {
      "needs_background": "light"
     },
     "output_type": "display_data"
    }
   ],
   "source": [
    "\n",
    "predict = model2(Variable(x_train_cuda))\n",
    "predict = predict.cpu().data.numpy()\n",
    "predict=predict.reshape(32)\n",
    "#print(predict)\n",
    "#print(y_train_np)\n",
    "#torch.save(model, '.\\data')\n",
    "#torch.save(model.state_dict(), '.\\data.pth')\n",
    "for param in model2.parameters():\n",
    "    print(type(param.data), param.data,param.size())\n",
    "plt.plot(x_np,y_train_np,'ro',label = 'original data')\n",
    "plt.plot(x_np,predict,label = 'Fitting Line')\n",
    "plt.show()"
   ]
  },
  {
   "cell_type": "code",
   "execution_count": 72,
   "metadata": {},
   "outputs": [
    {
     "name": "stdout",
     "output_type": "stream",
     "text": [
      "<class 'torch.Tensor'> tensor([[0.7359, 2.8028, 2.3083]], device='cuda:0') torch.Size([1, 3])\n",
      "<class 'torch.Tensor'> tensor([1.0877], device='cuda:0') torch.Size([1])\n"
     ]
    },
    {
     "data": {
      "image/png": "[encoded data removed]",
      "text/plain": [
       "<Figure size 432x288 with 1 Axes>"
      ]
     },
     "metadata": {
      "needs_background": "light"
     },
     "output_type": "display_data"
    }
   ],
   "source": [
    "predict = model3(Variable(x_train_cuda))\n",
    "predict = predict.cpu().data.numpy()\n",
    "predict=predict.reshape(32)\n",
    "#print(predict)\n",
    "#print(y_train_np)\n",
    "#torch.save(model, '.\\data')\n",
    "#torch.save(model.state_dict(), '.\\data.pth')\n",
    "for param in model3.parameters():\n",
    "    print(type(param.data), param.data,param.size())\n",
    "plt.plot(x_np,y_train_np,'ro',label = 'original data')\n",
    "plt.plot(x_np,predict,label = 'Fitting Line')\n",
    "plt.show()"
   ]
  },
  {
   "cell_type": "code",
   "execution_count": 59,
   "metadata": {},
   "outputs": [
    {
     "name": "stdout",
     "output_type": "stream",
     "text": [
      "OrderedDict([('poly.weight', tensor([[0.5763, 2.9904, 2.3824]], device='cuda:0')), ('poly.bias', tensor([0.9105], device='cuda:0'))])\n"
     ]
    }
   ],
   "source": [
    "model3 = torch.load('.\\model.pkl')\n",
    "print(model3)"
   ]
  },
  {
   "cell_type": "code",
   "execution_count": null,
   "metadata": {},
   "outputs": [],
   "source": []
  }
 ],
 "metadata": {
  "kernelspec": {
   "display_name": "Python 3",
   "language": "python",
   "name": "python3"
  },
  "language_info": {
   "codemirror_mode": {
    "name": "ipython",
    "version": 3
   },
   "file_extension": ".py",
   "mimetype": "text/x-python",
   "name": "python",
   "nbconvert_exporter": "python",
   "pygments_lexer": "ipython3",
   "version": "3.6.7"
  }
 },
 "nbformat": 4,
 "nbformat_minor": 2
}
